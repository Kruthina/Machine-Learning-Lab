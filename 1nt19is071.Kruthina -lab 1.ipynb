{
 "cells": [
  {
   "cell_type": "code",
   "execution_count": null,
   "metadata": {},
   "outputs": [],
   "source": [
    "l=[]\n",
    "n=int(input(\"Enter the number of elements\"))\n",
    "for i in range (0,n):\n",
    "    e=int(input())\n",
    "    l.append(e)\n",
    "sum=0\n",
    "for i in range (len(l)):\n",
    "    sum=sum+l[i]\n",
    "mean=sum/len(l)\n",
    "print(\"Mean\",mean)"
   ]
  },
  {
   "cell_type": "code",
   "execution_count": null,
   "metadata": {},
   "outputs": [],
   "source": [
    "for i in range (0,n-1):\n",
    "    for j in range(n-1):\n",
    "        if l[j]>l[j+1]:\n",
    "            l[j],l[j+1]=l[j+1],l[j]\n",
    "print(l)\n",
    "            "
   ]
  },
  {
   "cell_type": "code",
   "execution_count": null,
   "metadata": {},
   "outputs": [],
   "source": [
    "if n%2==0:\n",
    "    m1=l[n//2]\n",
    "    m2=l[n//2-1]\n",
    "    median=(m1+m2)/2\n",
    "else:\n",
    "    median=l[n//2]\n",
    "print(median)"
   ]
  },
  {
   "cell_type": "code",
   "execution_count": null,
   "metadata": {},
   "outputs": [],
   "source": [
    "\n",
    "def mode(l):\n",
    "    frequency={}\n",
    "    for i in l:\n",
    "        frequency.setdefault(i,0)\n",
    "        frequency[i]+=1\n",
    "    max_fre=max(frequency.values())\n",
    "    high_fre=[]\n",
    "    \n",
    "    for n,fre in frequency.items():\n",
    "        if fre==max_fre:\n",
    "            high_fre.append(n)\n",
    "    return high_fre\n",
    "\n",
    "mode(l)\n",
    "\n",
    "        \n",
    "    \n",
    "    \n",
    "    "
   ]
  },
  {
   "cell_type": "code",
   "execution_count": 5,
   "metadata": {},
   "outputs": [
    {
     "name": "stdout",
     "output_type": "stream",
     "text": [
      "[0.0, 0.25, 0.25, 0.75, 1.0]\n"
     ]
    }
   ],
   "source": [
    "data=[]\n",
    "min=min(l)\n",
    "max=max(l)\n",
    "for i in range (len(l)):\n",
    "    x= (l[i]-min)/(max-min)\n",
    "    data.append(x)\n",
    "print(data)"
   ]
  },
  {
   "cell_type": "code",
   "execution_count": null,
   "metadata": {},
   "outputs": [],
   "source": []
  },
  {
   "cell_type": "code",
   "execution_count": null,
   "metadata": {},
   "outputs": [],
   "source": []
  },
  {
   "cell_type": "code",
   "execution_count": null,
   "metadata": {},
   "outputs": [],
   "source": []
  },
  {
   "cell_type": "code",
   "execution_count": null,
   "metadata": {},
   "outputs": [],
   "source": []
  }
 ],
 "metadata": {
  "kernelspec": {
   "display_name": "Python 3",
   "language": "python",
   "name": "python3"
  },
  "language_info": {
   "codemirror_mode": {
    "name": "ipython",
    "version": 3
   },
   "file_extension": ".py",
   "mimetype": "text/x-python",
   "name": "python",
   "nbconvert_exporter": "python",
   "pygments_lexer": "ipython3",
   "version": "3.7.6"
  }
 },
 "nbformat": 4,
 "nbformat_minor": 4
}
